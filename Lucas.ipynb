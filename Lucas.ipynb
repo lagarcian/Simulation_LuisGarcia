{
  "nbformat": 4,
  "nbformat_minor": 0,
  "metadata": {
    "colab": {
      "name": "Lucas.ipynb",
      "provenance": [],
      "collapsed_sections": [],
      "authorship_tag": "ABX9TyPjSsXFyd3H/+xwcU3i0Y4L",
      "include_colab_link": true
    },
    "kernelspec": {
      "name": "python3",
      "display_name": "Python 3"
    }
  },
  "cells": [
    {
      "cell_type": "markdown",
      "metadata": {
        "id": "view-in-github",
        "colab_type": "text"
      },
      "source": [
        "<a href=\"https://colab.research.google.com/github/lagarcian/Simulation_LuisGarcia/blob/master/Lucas.ipynb\" target=\"_parent\"><img src=\"https://colab.research.google.com/assets/colab-badge.svg\" alt=\"Open In Colab\"/></a>"
      ]
    },
    {
      "cell_type": "code",
      "metadata": {
        "id": "-c_qKc9Z6GSp",
        "colab_type": "code",
        "outputId": "485a0a69-da05-4129-9042-1cd2665136c0",
        "colab": {
          "base_uri": "https://localhost:8080/",
          "height": 652
        }
      },
      "source": [
        "\n",
        "import numpy as np\n",
        "from matplotlib import pyplot as plot\n",
        "\n",
        "def Lucas(n):#Definición de la función de los números de Lucas si n=0 Lucas(0)=2, si n=1 Lucas(1)=1, si n=2 Lucas(2)=Lucas(1)+Lucas(0)=2+1=3 y así sucesivamente\n",
        "  if(n==0): \n",
        "    return 2\n",
        "  if(n==1): \n",
        "    return 1\n",
        " \n",
        "  return Lucas(n-1)+Lucas(n-2)\n",
        "\n",
        "n=20\n",
        "\n",
        "#print(Lucas(n))\n",
        "print('n', 'Lucas(n)')\n",
        "\n",
        "for i in range (0, 20):\n",
        "  \n",
        "  print(i,Lucas(i))\n",
        "  \n",
        "     \n",
        "  plot.plot(i, Lucas(i), '*')\n",
        "\n",
        "\n",
        "plot.xlabel('n')\n",
        "plot.ylabel('Lucas(n)')\n",
        "plot.title('Números Lucas')\n",
        "plot.show()\n",
        "\n",
        "#La gráfica muestra un aumento exponencial de los números de Lucas. \n"
      ],
      "execution_count": 0,
      "outputs": [
        {
          "output_type": "stream",
          "text": [
            "n Lucas(n)\n",
            "0 2\n",
            "1 1\n",
            "2 3\n",
            "3 4\n",
            "4 7\n",
            "5 11\n",
            "6 18\n",
            "7 29\n",
            "8 47\n",
            "9 76\n",
            "10 123\n",
            "11 199\n",
            "12 322\n",
            "13 521\n",
            "14 843\n",
            "15 1364\n",
            "16 2207\n",
            "17 3571\n",
            "18 5778\n",
            "19 9349\n"
          ],
          "name": "stdout"
        },
        {
          "output_type": "display_data",
          "data": {
            "image/png": "[encoded data removed]",
            "text/plain": [
              "<Figure size 432x288 with 1 Axes>"
            ]
          },
          "metadata": {
            "tags": []
          }
        }
      ]
    },
    {
      "cell_type": "markdown",
      "metadata": {
        "id": "K8CHDfZIAcOY",
        "colab_type": "text"
      },
      "source": [
        ""
      ]
    },
    {
      "cell_type": "code",
      "metadata": {
        "id": "374-Bj-o6HEG",
        "colab_type": "code",
        "colab": {}
      },
      "source": [
        ""
      ],
      "execution_count": 0,
      "outputs": []
    },
    {
      "cell_type": "markdown",
      "metadata": {
        "id": "4rhzrEMq6I4H",
        "colab_type": "text"
      },
      "source": [
        ""
      ]
    }
  ]
}