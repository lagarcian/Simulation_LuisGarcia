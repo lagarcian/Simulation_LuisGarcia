{
  "nbformat": 4,
  "nbformat_minor": 0,
  "metadata": {
    "colab": {
      "name": "Untitled16.ipynb",
      "provenance": [],
      "private_outputs": true,
      "authorship_tag": "ABX9TyPX+pQhI0QJyU4vF1egjip2",
      "include_colab_link": true
    },
    "kernelspec": {
      "name": "python3",
      "display_name": "Python 3"
    }
  },
  "cells": [
    {
      "cell_type": "markdown",
      "metadata": {
        "id": "view-in-github",
        "colab_type": "text"
      },
      "source": [
        "<a href=\"https://colab.research.google.com/github/lagarcian/Simulation_LuisGarcia/blob/master/Untitled16.ipynb\" target=\"_parent\"><img src=\"https://colab.research.google.com/assets/colab-badge.svg\" alt=\"Open In Colab\"/></a>"
      ]
    },
    {
      "cell_type": "code",
      "metadata": {
        "id": "oMz8tlRCa7A2",
        "colab_type": "code",
        "colab": {}
      },
      "source": [
        "import numpy as np\n",
        "import matplotlib.pyplot as plt\n",
        "\n",
        "\n",
        "len=21\n",
        "x=np.linspace(0,2*np.pi,len)\n",
        "c=np.cos(x)\n",
        "s=np.sin(x)\n",
        "t=np.tan(x)\n",
        "arr=np.empty((4,len),dtype=float)\n",
        "arr[0, : ]=x\n",
        "arr[1, : ]=c\n",
        "arr[2, : ]=s\n",
        "arr[3, : ]=t\n",
        "\n",
        "np.savetxt('x.txt',x)\n",
        "np.savetxt('xcst.txt', (x,c,s,t))\n",
        "np.savetxt('xarr.txt', arr)\n",
        "\n"
      ],
      "execution_count": 0,
      "outputs": []
    },
    {
      "cell_type": "code",
      "metadata": {
        "id": "SM9zRXVAb-FS",
        "colab_type": "code",
        "colab": {}
      },
      "source": [
        "cx=np.loadtxt('x.txt')\n",
        "xc,cc,sc,tc=np.loadtxt('xcst.txt')\n",
        "arrc=np.loadtxt('xarr.txt')\n",
        "\n"
      ],
      "execution_count": 0,
      "outputs": []
    },
    {
      "cell_type": "code",
      "metadata": {
        "id": "MZd9aaOZc2Yv",
        "colab_type": "code",
        "colab": {}
      },
      "source": [
        "import matplotlib.pyplot as plt\n",
        "\n",
        "plt.plot(x,t)\n",
        "plt.plot(x,s)\n",
        "plt.plot(x,c)\n",
        "\n"
      ],
      "execution_count": 0,
      "outputs": []
    },
    {
      "cell_type": "code",
      "metadata": {
        "id": "RI3HGoUTdM14",
        "colab_type": "code",
        "colab": {}
      },
      "source": [
        ""
      ],
      "execution_count": 0,
      "outputs": []
    }
  ]
}