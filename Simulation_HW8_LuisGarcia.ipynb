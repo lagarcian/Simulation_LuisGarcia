{
  "nbformat": 4,
  "nbformat_minor": 0,
  "metadata": {
    "colab": {
      "name": "Simulation_HW8_LuisGarcia.ipynb",
      "provenance": [],
      "private_outputs": true,
      "authorship_tag": "ABX9TyMJ5VaJH5yZHNoywkmPnsPT",
      "include_colab_link": true
    },
    "kernelspec": {
      "name": "python3",
      "display_name": "Python 3"
    }
  },
  "cells": [
    {
      "cell_type": "markdown",
      "metadata": {
        "id": "view-in-github",
        "colab_type": "text"
      },
      "source": [
        "<a href=\"https://colab.research.google.com/github/lagarcian/Simulation_LuisGarcia/blob/master/Simulation_HW8_LuisGarcia.ipynb\" target=\"_parent\"><img src=\"https://colab.research.google.com/assets/colab-badge.svg\" alt=\"Open In Colab\"/></a>"
      ]
    },
    {
      "cell_type": "code",
      "metadata": {
        "id": "8EUMKCP8S1n2",
        "colab_type": "code",
        "colab": {}
      },
      "source": [
        "import numpy as np \n",
        "import math as m\n",
        "import matplotlib.pyplot as plt\n",
        "from scipy.stats import *\n",
        "import scipy.special as sp\n",
        "%matplotlib inline\n",
        "\n",
        "#Aqui vamos a hacer la rutina\n"
      ],
      "execution_count": 0,
      "outputs": []
    },
    {
      "cell_type": "code",
      "metadata": {
        "id": "osVHCDehTgpZ",
        "colab_type": "code",
        "colab": {}
      },
      "source": [
        "def p(x,nu,sigma,mu): #Función \n",
        "  n=m.gamma((nu+1)/2)*(1+(1/nu)*(((x-mu)/sigma)**2)**(-nu/2+1/2))/(m.gamma(nu/2)*m.sqrt(nu*m.pi*sigma))\n",
        "  return n\n",
        "\n",
        "def normalita(y,x,alpha):\n",
        "  return np.exp(-(y-x)**2/2*alpha)/alpha*np.sqrt(2*np.pi)  \n",
        "  \n",
        "\n"
      ],
      "execution_count": 0,
      "outputs": []
    },
    {
      "cell_type": "code",
      "metadata": {
        "id": "OGgU7r8lVhzi",
        "colab_type": "code",
        "colab": {}
      },
      "source": [
        "print(p(23,3,1,1))\n",
        "print(normalita(23,8,10))\n"
      ],
      "execution_count": 0,
      "outputs": []
    },
    {
      "cell_type": "code",
      "metadata": {
        "id": "MiA73K8wwjr5",
        "colab_type": "code",
        "colab": {}
      },
      "source": [
        ""
      ],
      "execution_count": 0,
      "outputs": []
    },
    {
      "cell_type": "code",
      "metadata": {
        "id": "iY1-a170WNlT",
        "colab_type": "code",
        "colab": {}
      },
      "source": [
        "def metropolis(n,mu, sigma,alpha,x): \n",
        "  d=np.zeros(n)\n",
        "  aceptado=0\n",
        "  for i in range(0,n-1):\n",
        "    y=np.random.normal(x,alpha)\n",
        "    print(x,y)\n",
        "    h=min(1,p(y,nu,sigma,mu)/p(x,nu,sigma,mu))\n",
        "    U=np.random.rand()\n",
        "    if U<h:\n",
        "      x=y\n",
        "      aceptado+=1\n",
        "    d[i]=x\n",
        "  return d,aceptado/n   \n",
        "\n"
      ],
      "execution_count": 0,
      "outputs": []
    },
    {
      "cell_type": "code",
      "metadata": {
        "id": "oZQLCZcDx2Y6",
        "colab_type": "code",
        "colab": {}
      },
      "source": [
        "def gamma(h,chain): \n",
        "  N=chain.size\n",
        "  mean=chain.mean()\n",
        "  g=0\n",
        "  for i in range(0,N-h): \n",
        "    g+=(chain[i+h]-mean)*(chain[i]-mean)\n",
        "  return 1/(N-h)*g  "
      ],
      "execution_count": 0,
      "outputs": []
    },
    {
      "cell_type": "code",
      "metadata": {
        "id": "KjEtDCH5yVm5",
        "colab_type": "code",
        "colab": {}
      },
      "source": [
        "def auto(h,chain):\n",
        "  return gamma(h,chain)/gamma(0,chain)"
      ],
      "execution_count": 0,
      "outputs": []
    },
    {
      "cell_type": "code",
      "metadata": {
        "id": "VzSZqe22yh_6",
        "colab_type": "code",
        "colab": {}
      },
      "source": [
        "nu=1.0\n",
        "mu=3.0\n",
        "sigma=1.0"
      ],
      "execution_count": 0,
      "outputs": []
    },
    {
      "cell_type": "code",
      "metadata": {
        "id": "JirriPjeQM5C",
        "colab_type": "code",
        "colab": {}
      },
      "source": [
        "chain=metropolis(1000,mu,sigma,0.01,10)[0]\n",
        "\n",
        "plt.plot(chain)"
      ],
      "execution_count": 0,
      "outputs": []
    },
    {
      "cell_type": "code",
      "metadata": {
        "id": "B3lgs5nKOzM8",
        "colab_type": "code",
        "colab": {}
      },
      "source": [
        "plt.hist(chain,bins=70,density=True)\n",
        "x=np.linspace(-5,10,1000)\n",
        "plt.plot(x, p(x,nu, sigma, mu),\"r\")"
      ],
      "execution_count": 0,
      "outputs": []
    },
    {
      "cell_type": "code",
      "metadata": {
        "id": "bEZjNRgnyolw",
        "colab_type": "code",
        "colab": {}
      },
      "source": [
        "\n",
        "chain=metropolis(1000,mu,sigma,0.1,10)[0]\n",
        "plt.plot(chain)"
      ],
      "execution_count": 0,
      "outputs": []
    },
    {
      "cell_type": "code",
      "metadata": {
        "id": "fNSWemPSy63I",
        "colab_type": "code",
        "colab": {}
      },
      "source": [
        "plt.hist(chain,bins=70,density=True)\n",
        "x=np.linspace(-5,10,1000)\n",
        "plt.plot(x, p(x,nu, sigma, mu),\"r\")"
      ],
      "execution_count": 0,
      "outputs": []
    },
    {
      "cell_type": "code",
      "metadata": {
        "id": "dZhCevUJOQNt",
        "colab_type": "code",
        "colab": {}
      },
      "source": [
        "chain=metropolis(1000,mu,sigma,1,10)[0]\n",
        "plt.plot(chain)"
      ],
      "execution_count": 0,
      "outputs": []
    },
    {
      "cell_type": "code",
      "metadata": {
        "id": "YGrvAouMOT1f",
        "colab_type": "code",
        "colab": {}
      },
      "source": [
        "plt.hist(chain,bins=70,density=True)\n",
        "x=np.linspace(-5,10,1000)\n",
        "plt.plot(x, p(x,nu, sigma, mu),\"r\")"
      ],
      "execution_count": 0,
      "outputs": []
    },
    {
      "cell_type": "code",
      "metadata": {
        "id": "CSEaUaxnQ4Qf",
        "colab_type": "code",
        "colab": {}
      },
      "source": [
        ""
      ],
      "execution_count": 0,
      "outputs": []
    },
    {
      "cell_type": "code",
      "metadata": {
        "id": "4QFSWjg1wdxP",
        "colab_type": "code",
        "colab": {}
      },
      "source": [
        "chain=metropolis(1000,mu,sigma,10,10)[0]\n",
        "plt.plot(chain)"
      ],
      "execution_count": 0,
      "outputs": []
    },
    {
      "cell_type": "code",
      "metadata": {
        "id": "66MCgZSoXKun",
        "colab_type": "code",
        "colab": {}
      },
      "source": [
        "plt.hist(chain,bins=20,density=True)\n",
        "x=np.linspace(-5,10,1000)\n",
        "plt.plot(x, p(x,nu, sigma, mu),\"r\")\n"
      ],
      "execution_count": 0,
      "outputs": []
    }
  ]
}