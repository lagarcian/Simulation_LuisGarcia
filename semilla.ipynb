{
  "nbformat": 4,
  "nbformat_minor": 0,
  "metadata": {
    "colab": {
      "name": "semilla.ipynb",
      "provenance": [],
      "authorship_tag": "ABX9TyMGuqWvQKqVcQOJK0R7deIv",
      "include_colab_link": true
    },
    "kernelspec": {
      "name": "python3",
      "display_name": "Python 3"
    }
  },
  "cells": [
    {
      "cell_type": "markdown",
      "metadata": {
        "id": "view-in-github",
        "colab_type": "text"
      },
      "source": [
        "<a href=\"https://colab.research.google.com/github/lagarcian/Simulation_LuisGarcia/blob/master/semilla.ipynb\" target=\"_parent\"><img src=\"https://colab.research.google.com/assets/colab-badge.svg\" alt=\"Open In Colab\"/></a>"
      ]
    },
    {
      "cell_type": "code",
      "metadata": {
        "id": "4IWHHI13gqll",
        "colab_type": "code",
        "outputId": "a08262ee-c9e0-4db3-cfcc-7256dbd2164f",
        "colab": {
          "base_uri": "https://localhost:8080/",
          "height": 907
        }
      },
      "source": [
        "import matplotlib.pyplot as plot\n",
        "import numpy as np \n",
        "import pylab as py \n",
        "from sympy import symbols as syb \n",
        "\n",
        "\n",
        "\n",
        "def f(x):\n",
        "  if(x>=0 and x<1/2): \n",
        "    g=2*x\n",
        "  if(x>=1/2 and x<1):\n",
        "    g=(2*x-1)\n",
        "  return g \n",
        "\n",
        "  s=0.99\n",
        "\n",
        "\n",
        "  plot.plot(s, f(s), '*')\n",
        "\n",
        "\n",
        "plot.xlabel('n')\n",
        "plot.ylabel('Lucas(n)')\n",
        "plot.title('Números Lucas')\n",
        "plot.show()\n",
        " \n",
        "\n",
        "\n",
        "def g(x):\n",
        "  if(x>=0 and x<1/2): \n",
        "    return 2*x\n",
        "  if(x>=1/2 and x<1):\n",
        "    return (2*x-1) \n",
        "\n",
        "\n",
        "      \n",
        "\n",
        "\n",
        "\n",
        "\n",
        "def factorial(n): \n",
        "  if(n>0):\n",
        "    return n*factorial(n-1)\n",
        "  else: \n",
        "    n=1\n",
        "    return n  \n",
        "\n",
        "#print(factorial(5)) \n",
        "\n",
        "\n",
        "\n",
        "\n",
        "\n",
        "s=0.79\n",
        "print('semilla s=0.79')\n",
        "print(f(s))\n",
        "print(f(f(s)))\n",
        "print(f(f(f(s))))\n",
        "print(f(f(f(f(s)))))\n",
        "print(f(f(f(f(f(s))))))\n",
        "\n",
        "s=0.5\n",
        "print('semilla s=0.5')\n",
        "print(f(s))\n",
        "print(f(f(s)))\n",
        "print(f(f(f(s))))\n",
        "print(f(f(f(f(s)))))\n",
        "print(f(f(f(f(f(s))))))\n",
        "\n",
        "s=0.2\n",
        "print('semilla s=0.2')\n",
        "print(f(s))\n",
        "print(f(f(s)))\n",
        "print(f(f(f(s))))\n",
        "print(f(f(f(f(s)))))\n",
        "print(f(f(f(f(f(s))))))\n",
        "\n",
        "s=0.1\n",
        "print('semilla s=0.1')\n",
        "print(f(s))\n",
        "print(f(f(s)))\n",
        "print(f(f(f(s))))\n",
        "print(f(f(f(f(s)))))\n",
        "print(f(f(f(f(f(s))))))\n",
        "\n",
        "s=0.9\n",
        "print('semilla s=0.9')\n",
        "print(f(s))\n",
        "print(f(f(s)))\n",
        "print(f(f(f(s))))\n",
        "print(f(f(f(f(s)))))\n",
        "print(f(f(f(f(f(s))))))\n",
        "\n",
        "s=1/9\n",
        "print('semilla s=1/9')\n",
        "print(f(s))\n",
        "print(f(f(s)))\n",
        "print(f(f(f(s))))\n",
        "print(f(f(f(f(s)))))\n",
        "print(f(f(f(f(f(s))))))\n"
      ],
      "execution_count": 33,
      "outputs": [
        {
          "output_type": "display_data",
          "data": {
            "image/png": "[encoded data removed]",
            "text/plain": [
              "<Figure size 432x288 with 1 Axes>"
            ]
          },
          "metadata": {
            "tags": []
          }
        },
        {
          "output_type": "stream",
          "text": [
            "semilla s=0.79\n",
            "0.5800000000000001\n",
            "0.16000000000000014\n",
            "0.3200000000000003\n",
            "0.6400000000000006\n",
            "0.28000000000000114\n",
            "semilla s=0.5\n",
            "0.0\n",
            "0.0\n",
            "0.0\n",
            "0.0\n",
            "0.0\n",
            "semilla s=0.2\n",
            "0.4\n",
            "0.8\n",
            "0.6000000000000001\n",
            "0.20000000000000018\n",
            "0.40000000000000036\n",
            "semilla s=0.1\n",
            "0.2\n",
            "0.4\n",
            "0.8\n",
            "0.6000000000000001\n",
            "0.20000000000000018\n",
            "semilla s=0.9\n",
            "0.8\n",
            "0.6000000000000001\n",
            "0.20000000000000018\n",
            "0.40000000000000036\n",
            "0.8000000000000007\n",
            "semilla s=1/9\n",
            "0.2222222222222222\n",
            "0.4444444444444444\n",
            "0.8888888888888888\n",
            "0.7777777777777777\n",
            "0.5555555555555554\n"
          ],
          "name": "stdout"
        }
      ]
    },
    {
      "cell_type": "markdown",
      "metadata": {
        "id": "4GZm4pjoCIQX",
        "colab_type": "text"
      },
      "source": [
        "Se puede ver que cuando la semilla se aproxima a 1/2 la función tiende a cero entre mas compocisiones tenga, cuando la semilla es exactamente igual a 1/9 da 0.n con n de periodo infinito. "
      ]
    }
  ]
}